{
 "cells": [
  {
   "cell_type": "markdown",
   "metadata": {},
   "source": [
    "# Re implementing ViTTA (light version)"
   ]
  },
  {
   "cell_type": "markdown",
   "metadata": {},
   "source": [
    "We will implement ViTTA using PyTorch. We will evaluate it on on two model architectures: TANet based on ResNet50, and Video Swin Transformer based on Swin-B.\n",
    "\n",
    "### Pipeline:\n",
    "\n",
    "<img src=\"https://wlin-at.github.io/media/vitta/pipeline.png\">\n",
    "\n",
    "You can refer to the [ViTTA paper](https://openaccess.thecvf.com/content/CVPR2023/papers/Lin_Video_Test-Time_Adaptation_for_Action_Recognition_CVPR_2023_paper.pdf) for more information."
   ]
  },
  {
   "cell_type": "code",
   "execution_count": 6,
   "metadata": {},
   "outputs": [],
   "source": [
    "import torchvision\n",
    "import torch\n",
    "from torch.utils.data import Dataset, DataLoader\n",
    "from torchvision.datasets import UCF101\n",
    "from torchvision.transforms import Compose, Resize, CenterCrop, ToTensor, Normalize\n",
    "import cv2\n",
    "import av"
   ]
  },
  {
   "cell_type": "markdown",
   "metadata": {},
   "source": [
    "## Data Loading"
   ]
  },
  {
   "cell_type": "markdown",
   "metadata": {},
   "source": [
    "Let's first load UCF101 dataset, and try to visualize it using matplotlib and opencv:"
   ]
  },
  {
   "cell_type": "code",
   "execution_count": null,
   "metadata": {},
   "outputs": [],
   "source": [
    "transform = Compose([\n",
    "    Resize((112,112)),\n",
    "    CenterCrop((112,112)),\n",
    "    ToTensor(),\n",
    "    Normalize(mean=[0.485, 0.456, 0.406], std=[0.229, 0.224, 0.225])\n",
    "])\n",
    "\n",
    "data_path = 'data/UCF101/'\n",
    "\n",
    "ucf101_train = UCF101(\n",
    "    root=data_path + 'UCF101',\n",
    "    annotation_path=data_path + 'ucfTrainTestlist',\n",
    "    frames_per_clip=5,\n",
    "    step_between_clips=1,\n",
    "    train=True,\n",
    "    transform=transform)\n",
    "\n",
    "ucf101_val = UCF101(\n",
    "    root=data_path + 'UCF101',\n",
    "    annotation_path=data_path + 'ucfTrainTestlist',\n",
    "    frames_per_clip=5,\n",
    "    step_between_clips=1,\n",
    "    train=False,\n",
    "    transform=transform)"
   ]
  },
  {
   "cell_type": "code",
   "execution_count": null,
   "metadata": {},
   "outputs": [],
   "source": [
    "ucf101_train"
   ]
  },
  {
   "cell_type": "markdown",
   "metadata": {},
   "source": [
    "Let's create the dataset:"
   ]
  },
  {
   "cell_type": "code",
   "execution_count": 13,
   "metadata": {},
   "outputs": [],
   "source": [
    "class VideoDataset(Dataset):\n",
    "    def __init__(self, dataset):\n",
    "        self.dataset = dataset\n",
    "\n",
    "    def __len__(self):\n",
    "        return len(self.dataset)\n",
    "    \n",
    "    def __getitem__(self, idx):\n",
    "        video, _, label = self.dataset[idx]\n",
    "        video = video.permute(3,0,1,2)\n",
    "        return video, label\n",
    "    \n",
    "ucf101_train_dataset = VideoDataset(ucf101_train)\n",
    "ucf101_val_dataset = VideoDataset(ucf101_val)"
   ]
  },
  {
   "cell_type": "markdown",
   "metadata": {},
   "source": [
    "Now let's create the DataLoader:"
   ]
  },
  {
   "cell_type": "code",
   "execution_count": null,
   "metadata": {},
   "outputs": [],
   "source": [
    "train_loader = DataLoader(\n",
    "    ucf101_train_dataset,\n",
    "    batch_size=1,\n",
    "    shuffle=True\n",
    ")\n",
    "\n",
    "val_loader = DataLoader(\n",
    "    ucf101_val_dataset,\n",
    "    batch_size=8,\n",
    "    shuffle=True\n",
    ")"
   ]
  }
 ],
 "metadata": {
  "kernelspec": {
   "display_name": "ai",
   "language": "python",
   "name": "python3"
  },
  "language_info": {
   "codemirror_mode": {
    "name": "ipython",
    "version": 3
   },
   "file_extension": ".py",
   "mimetype": "text/x-python",
   "name": "python",
   "nbconvert_exporter": "python",
   "pygments_lexer": "ipython3",
   "version": "3.12.7"
  }
 },
 "nbformat": 4,
 "nbformat_minor": 2
}
